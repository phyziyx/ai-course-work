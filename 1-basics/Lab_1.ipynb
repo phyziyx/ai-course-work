{
 "cells": [
  {
   "cell_type": "code",
   "execution_count": 21,
   "id": "2f9aee04",
   "metadata": {},
   "outputs": [
    {
     "name": "stdout",
     "output_type": "stream",
     "text": [
      "Welcome to the simple calculator app\n",
      "You inputted a non-numeric value\n",
      "You inputted a non-numeric value\n",
      "Your output is 6\n"
     ]
    }
   ],
   "source": [
    "# Add, Sub, Mul and Div\n",
    "\n",
    "print('Welcome to the simple calculator app')\n",
    "\n",
    "try:\n",
    "    firstVal = int(input('Input your first number'))\n",
    "except:\n",
    "    print('You inputted a non-numeric value')\n",
    "try:\n",
    "    secondVal = int(input('Input your second number'))\n",
    "except:\n",
    "    print('You inputted a non-numeric value')\n",
    "operation = input('Put the symbol that you want to perform operation')\n",
    "\n",
    "if operation == '+':\n",
    "    print(f'Your output is {firstVal + secondVal}')\n",
    "elif operation == '-':\n",
    "    print(f'Your output is {firstVal - secondVal}')\n",
    "elif operation == '/':\n",
    "    print(f'Your output is {firstVal / secondVal}')\n",
    "elif operation == '*':\n",
    "    print(f'Your output is {firstVal * secondVal}')\n",
    "else:\n",
    "    print(f'You inputted {operation} which is an unknown operation')"
   ]
  },
  {
   "cell_type": "code",
   "execution_count": 37,
   "id": "d4c1ab81",
   "metadata": {},
   "outputs": [
    {
     "name": "stdout",
     "output_type": "stream",
     "text": [
      "someStr[0:]: lol got what the heck is going on lmao\n",
      "someStr[4:]: got what the heck is going on lmao\n",
      "someStr[:-10]: lol got what the heck is goi\n",
      "someStr[:14]: lol got what t\n"
     ]
    }
   ],
   "source": [
    "someStr = input('Hi, my name is...')\n",
    "\n",
    "print('someList[0:]: ' + someStr[0:])\n",
    "print('someStr[4:]: ' + someStr[4:])\n",
    "print('someStr[:-10]: ' + someStr[:-10])\n",
    "print('someStr[:14]: ' + someStr[:14])"
   ]
  },
  {
   "cell_type": "code",
   "execution_count": 47,
   "id": "861f73c4",
   "metadata": {},
   "outputs": [
    {
     "name": "stdout",
     "output_type": "stream",
     "text": [
      "255 is type of <class 'int'>\n",
      "Slim is type of <class 'str'>\n",
      "55 is type of <class 'str'>\n",
      "['a', 'b'] is type of <class 'list'>\n",
      "\n",
      "The length of your someList is 4\n"
     ]
    }
   ],
   "source": [
    "someList = [0xff, 'Slim', '55', ['a', 'b']]\n",
    "for x in someList:\n",
    "    print(f'{x} is type of {type(x)}')\n",
    "\n",
    "print(f'\\nThe length of your someList is {len(someList)}')"
   ]
  },
  {
   "cell_type": "code",
   "execution_count": 50,
   "id": "0e95a2ff",
   "metadata": {},
   "outputs": [
    {
     "name": "stdout",
     "output_type": "stream",
     "text": [
      "someList[0:]: [255, 'Slim', '55', ['a', 'b']]\n",
      "someList[3:]: [['a', 'b']]\n",
      "someList[:-10]: []\n",
      "someList[:14]: [255, 'Slim', '55', ['a', 'b']]\n"
     ]
    }
   ],
   "source": [
    "someList = [0xff, 'Slim', '55', ['a', 'b']]\n",
    "\n",
    "print(f'someList[0:]: {someList[0:]}')\n",
    "print(f'someList[3:]: {someList[3:]}')\n",
    "print(f'someList[:-10]: {someList[:-10]}')\n",
    "print(f'someList[:14]: {someList[:14]}')"
   ]
  },
  {
   "cell_type": "code",
   "execution_count": null,
   "id": "9f3a4230",
   "metadata": {},
   "outputs": [],
   "source": [
    "tuple1 = {'hola', 'si', 'nino', 'nina', 'espanol'}\n",
    "for k in tuple1:\n",
    "    print(f'\"{k}\" is part of your tuple (set)')\n",
    "\n",
    "tuple2 = ('hola', 'si', 'nino', 'nina', 'espanol')\n",
    "for k in tuple2:\n",
    "    print(f'\"{k}\" is part of your tuple (set2)')\n",
    "\n",
    "tuple3 = {'hola': 'hello', 'si': 'yes', 'nino': 'boy',\n",
    "          'nina': 'girl', 'espanol': 'Spanish'}\n",
    "for k in tuple3:\n",
    "    print(f'\"{k}\" holds the value for \"{tuple[k]}\"')"
   ]
  },
  {
   "cell_type": "code",
   "execution_count": null,
   "id": "9bfe38e2",
   "metadata": {},
   "outputs": [
    {
     "name": "stdout",
     "output_type": "stream",
     "text": [
      "1\n",
      "2\n",
      "fizz\n",
      "4\n",
      "bizz\n",
      "fizz\n",
      "7\n",
      "8\n",
      "fizz\n",
      "bizz\n",
      "11\n",
      "fizz\n",
      "13\n",
      "14\n",
      "fizzbizz\n",
      "16\n",
      "17\n",
      "fizz\n",
      "19\n"
     ]
    }
   ],
   "source": [
    "userNumber = int(input('Input the number'))\n",
    "\n",
    "if userNumber < 0:\n",
    "    print('Error')\n",
    "else:\n",
    "    for i in range(1, userNumber):\n",
    "        someStr = ''\n",
    "        if i % 3 == 0:\n",
    "            someStr += 'fizz'\n",
    "        if i % 5 == 0:\n",
    "            someStr += 'bizz'\n",
    "        print(someStr if len(someStr) > 0 else i)"
   ]
  },
  {
   "cell_type": "code",
   "execution_count": 90,
   "id": "9bfe38e2",
   "metadata": {},
   "outputs": [
    {
     "name": "stdout",
     "output_type": "stream",
     "text": [
      "2 * 1 = 2\n",
      "2 * 2 = 4\n",
      "2 * 3 = 6\n",
      "2 * 4 = 8\n",
      "2 * 5 = 10\n",
      "2 * 6 = 12\n",
      "2 * 7 = 14\n",
      "2 * 8 = 16\n",
      "2 * 9 = 18\n",
      "2 * 10 = 20\n"
     ]
    }
   ],
   "source": [
    "userNumber = int(input('Input the number:'))\n",
    "\n",
    "if userNumber < 0:\n",
    "    print('Error')\n",
    "elif userNumber % 2 != 0:\n",
    "    print('Only even numbers')\n",
    "else:\n",
    "    for i in range(1, 11):\n",
    "        print(f'{userNumber} * {i} = {userNumber * i}')"
   ]
  },
  {
   "cell_type": "code",
   "execution_count": null,
   "id": "19a87565",
   "metadata": {},
   "outputs": [],
   "source": [
    "userData = {\n",
    "    'name': 'Ali',\n",
    "    'age': 22,\n",
    "    'gender': True\n",
    "}\n",
    "\n",
    "print(f'User {userData[\"name\"]} is {\n",
    "      \"male\" if userData[\"gender\"] == True else \"female\"}')\n",
    "\n",
    "# Keys\n",
    "print(userData.keys())\n",
    "\n",
    "# Values\n",
    "print(userData.values())"
   ]
  },
  {
   "cell_type": "code",
   "execution_count": null,
   "id": "7d1edcc3",
   "metadata": {},
   "outputs": [],
   "source": [
    "keyNames = ['name', 'age', 'gender', 'programme', 'university']\n",
    "userData = {}\n",
    "\n",
    "for keyName in keyNames:\n",
    "    dataInput = input(f'Please input the data for \"{keyName}\":')\n",
    "    userData[keyName] = dataInput\n",
    "\n",
    "print(userData)\n",
    "print(userData.keys())\n",
    "print(userData.values())"
   ]
  }
 ],
 "metadata": {
  "kernelspec": {
   "display_name": "Python 3.9.13 ('base')",
   "language": "python",
   "name": "python3"
  },
  "language_info": {
   "codemirror_mode": {
    "name": "ipython",
    "version": 3
   },
   "file_extension": ".py",
   "mimetype": "text/x-python",
   "name": "python",
   "nbconvert_exporter": "python",
   "pygments_lexer": "ipython3",
   "version": "3.12.0"
  },
  "vscode": {
   "interpreter": {
    "hash": "ad2bdc8ecc057115af97d19610ffacc2b4e99fae6737bb82f5d7fb13d2f2c186"
   }
  }
 },
 "nbformat": 4,
 "nbformat_minor": 5
}
